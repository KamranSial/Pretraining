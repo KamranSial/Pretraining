{
 "cells": [
  {
   "cell_type": "code",
   "execution_count": 1,
   "metadata": {
    "collapsed": false
   },
   "outputs": [],
   "source": [
    "%matplotlib inline\n",
    "import matplotlib.pyplot as plt\n",
    "\n",
    "import tensorflow as tf\n",
    "\n",
    "import vgg16_new as vgg16\n",
    "import os\n",
    "import time\n",
    "import numpy as np\n",
    "#import utils\n",
    "from IPython.display import clear_output\n"
   ]
  },
  {
   "cell_type": "code",
   "execution_count": 2,
   "metadata": {
    "collapsed": false
   },
   "outputs": [
    {
     "name": "stdout",
     "output_type": "stream",
     "text": [
      "('conv1_1', '2d Value Initialized')\n",
      "conv1_1_filters [3, 3, 3, 64]\n",
      "('conv1_1', 'Value Initialized 0')\n",
      "conv1_1_biases [64]\n",
      "('conv1_2', '2d Value Initialized')\n",
      "conv1_2_filters [3, 3, 64, 64]\n",
      "('conv1_2', 'Value Initialized 0')\n",
      "conv1_2_biases [64]\n",
      "('conv2_1', '2d Value Initialized')\n",
      "conv2_1_filters [3, 3, 64, 128]\n",
      "('conv2_1', 'Value Initialized 0')\n",
      "conv2_1_biases [128]\n",
      "('conv2_2', '2d Value Initialized')\n",
      "conv2_2_filters [3, 3, 128, 128]\n",
      "('conv2_2', 'Value Initialized 0')\n",
      "conv2_2_biases [128]\n",
      "('conv3_1', '2d Value Initialized')\n",
      "conv3_1_filters [3, 3, 128, 256]\n",
      "('conv3_1', 'Value Initialized 0')\n",
      "conv3_1_biases [256]\n",
      "('conv3_2', '2d Value Initialized')\n",
      "conv3_2_filters [3, 3, 256, 256]\n",
      "('conv3_2', 'Value Initialized 0')\n",
      "conv3_2_biases [256]\n",
      "('conv3_3', '2d Value Initialized')\n",
      "conv3_3_filters [3, 3, 256, 256]\n",
      "('conv3_3', 'Value Initialized 0')\n",
      "conv3_3_biases [256]\n",
      "('conv4_1', '2d Value Initialized')\n",
      "conv4_1_filters [3, 3, 256, 512]\n",
      "('conv4_1', 'Value Initialized 0')\n",
      "conv4_1_biases [512]\n",
      "('conv4_2', '2d Value Initialized')\n",
      "conv4_2_filters [3, 3, 512, 512]\n",
      "('conv4_2', 'Value Initialized 0')\n",
      "conv4_2_biases [512]\n",
      "('conv4_3', '2d Value Initialized')\n",
      "conv4_3_filters [3, 3, 512, 512]\n",
      "('conv4_3', 'Value Initialized 0')\n",
      "conv4_3_biases [512]\n",
      "('conv5_1', '2d Value Initialized')\n",
      "conv5_1_filters [3, 3, 512, 512]\n",
      "('conv5_1', 'Value Initialized 0')\n",
      "conv5_1_biases [512]\n",
      "('conv5_2', '2d Value Initialized')\n",
      "conv5_2_filters [3, 3, 512, 512]\n",
      "('conv5_2', 'Value Initialized 0')\n",
      "conv5_2_biases [512]\n",
      "('conv5_3', '2d Value Initialized')\n",
      "conv5_3_filters [3, 3, 512, 512]\n",
      "('conv5_3', 'Value Initialized 0')\n",
      "conv5_3_biases [512]\n",
      "('fc6', 'Value Initialized')\n",
      "fc6_weights [25088, 4096]\n",
      "('fc6', 'Value Initialized 0.1')\n",
      "fc6_biases [4096]\n",
      "('fc7', 'Value Initialized')\n",
      "fc7_weights [4096, 4096]\n",
      "('fc7', 'Value Initialized 0.1')\n",
      "fc7_biases [4096]\n",
      "('fc8', 'Value Initialized')\n",
      "fc8_weights [4096, 1000]\n",
      "('fc8', 'Value Initialized 0.1')\n",
      "fc8_biases [1000]\n",
      "138357544\n"
     ]
    }
   ],
   "source": [
    "with tf.device('/cpu:0'):\n",
    "    sess = tf.Session()\n",
    "    learning_rate = tf.placeholder(tf.float32, [])\n",
    "    images_tf = tf.placeholder(tf.float32, [None, 224, 224, 3])\n",
    "    labels_tf = tf.placeholder(tf.int64)\n",
    "    train_mode = tf.placeholder(tf.bool)\n",
    "\n",
    "    vgg = vgg16.Vgg16()\n",
    "    vgg.build(images_tf, train_mode)\n",
    "print vgg.get_var_count()"
   ]
  },
  {
   "cell_type": "code",
   "execution_count": null,
   "metadata": {
    "collapsed": false
   },
   "outputs": [],
   "source": [
    "#print((vgg.data_dict[\"conv1_1\"][0].shape))\n",
    "#count= reduce(lambda x, y: x * y, vgg.data_dict[\"conv1_1\"][0].shape)\n",
    "#print(count)\n",
    "count=0\n",
    "for name in vgg.data_dict:\n",
    "    for idx in range(2): \n",
    "        print((vgg.data_dict[name][idx].shape),name,idx)\n",
    "        count+= reduce(lambda x, y: x * y, vgg.data_dict[name][idx].shape)\n",
    "print(count)"
   ]
  },
  {
   "cell_type": "code",
   "execution_count": 12,
   "metadata": {
    "collapsed": false
   },
   "outputs": [
    {
     "name": "stdout",
     "output_type": "stream",
     "text": [
      "[[ 0.00724593  0.00102757 -0.00283792 ..., -0.00065919 -0.0254207\n",
      "   0.01432017]\n",
      " [-0.01205858 -0.00723059 -0.01291002 ...,  0.01338064 -0.01083458\n",
      "   0.01110302]\n",
      " [ 0.00869888  0.01105613  0.02523781 ..., -0.01938329 -0.02306546\n",
      "  -0.01967287]\n",
      " ..., \n",
      " [ 0.00920382  0.00290693 -0.01578863 ..., -0.02134263  0.01752963\n",
      "  -0.01107815]\n",
      " [-0.00265743  0.02341442  0.01764894 ...,  0.01473334 -0.01504546\n",
      "   0.00987945]\n",
      " [-0.00791169  0.00579795 -0.01681744 ..., -0.00275333 -0.0121459\n",
      "   0.01058087]]\n"
     ]
    }
   ],
   "source": [
    "sess.run(tf.global_variables_initializer())\n",
    "var_out = sess.run(vgg.var_dict[(\"fc7\",0)])\n",
    "print(var_out)"
   ]
  },
  {
   "cell_type": "code",
   "execution_count": null,
   "metadata": {
    "collapsed": true
   },
   "outputs": [],
   "source": []
  }
 ],
 "metadata": {
  "kernelspec": {
   "display_name": "Python 2",
   "language": "python",
   "name": "python2"
  },
  "language_info": {
   "codemirror_mode": {
    "name": "ipython",
    "version": 2
   },
   "file_extension": ".py",
   "mimetype": "text/x-python",
   "name": "python",
   "nbconvert_exporter": "python",
   "pygments_lexer": "ipython2",
   "version": "2.7.12"
  }
 },
 "nbformat": 4,
 "nbformat_minor": 2
}
