{
 "cells": [
  {
   "cell_type": "code",
   "execution_count": 2,
   "metadata": {
    "collapsed": false
   },
   "outputs": [
    {
     "name": "stdout",
     "output_type": "stream",
     "text": [
      "20\n",
      "224\n",
      "224\n",
      "3\n",
      "20\n",
      "224\n",
      "224\n",
      "3\n"
     ]
    }
   ],
   "source": [
    "%matplotlib inline\n",
    "import matplotlib.pyplot as plt\n",
    "\n",
    "import tensorflow as tf\n",
    "\n",
    "import vgg16_trainable as vgg16\n",
    "import os\n",
    "import time\n",
    "import numpy as np\n",
    "import utils\n",
    "from IPython.display import clear_output\n",
    "\n",
    "PRETRAINED_MODEL_PATH= None\n",
    "N_EPOCHS = 300\n",
    "INIT_LEARNING_RATE = 0.001\n",
    "WEIGHT_DECAY_RATE = 0.0005\n",
    "MOMENTUM = 0.9\n",
    "IMAGE_HEIGHT  = 224    #960\n",
    "IMAGE_WIDTH   = 224    #720\n",
    "NUM_CHANNELS  = 3\n",
    "BATCH_SIZE = 60\n",
    "N_CLASSES = 2\n",
    "DROPOUT = 0.50\n",
    "NUM_GPUS =3\n",
    "ckpt_dir = \"/home/kami/ckpt_dir\"\n",
    "LOGS_PATH = '/home/kami/tensorflow_logs'\n",
    "WEIGHT_PATH = '.npy'\n",
    "TRAINSET_PATH = '/home/kami/PycharmProjects/csvgeneration/imagenetdata100-1.csv'\n",
    "VALSET_PATH ='/home/kami/PycharmProjects/csvgeneration/imagenetdata100-1.csv'\n",
    "\n",
    "csv_path = tf.train.string_input_producer([TRAINSET_PATH], shuffle=True)\n",
    "textReader = tf.TextLineReader()\n",
    "_,csv_content = textReader.read(csv_path)\n",
    "im_name, im_label = tf.decode_csv(csv_content, record_defaults=[[\"\"], [1]])\n",
    "\n",
    "im_content = tf.read_file(im_name)\n",
    "train_image = tf.image.decode_jpeg(im_content, channels=3)\n",
    "train_image = tf.cast(train_image, tf.float32)/255. # necessary for mapping rgb channels from 0-255 to 0-1 float.\n",
    "# train_image = augment(train_image)\n",
    "size = tf.cast([IMAGE_HEIGHT, IMAGE_WIDTH], tf.int32)\n",
    "train_image = tf.image.resize_images(train_image, size)\n",
    "train_label = tf.cast(im_label, tf.int64) # unnecessary\n",
    "train_image_batch, train_label_batch = tf.train.shuffle_batch([train_image, train_label], batch_size=BATCH_SIZE,\n",
    "                                                               capacity = 1000 + 3*BATCH_SIZE, min_after_dequeue = 1000)\n",
    "\n",
    "images_splits = tf.split(0, NUM_GPUS, train_image_batch)\n",
    "labels_splits = tf.split(0, NUM_GPUS, train_label_batch)\n",
    "        \n",
    "   \n",
    "\n",
    "with tf.device('/cpu:0'):\n",
    "    sess = tf.Session()\n",
    "    sess.run(tf.global_variables_initializer())\n",
    "\n",
    "    # For populating queues with batches, very important!\n",
    "    threads = tf.train.start_queue_runners(sess=sess)\n",
    "    \n",
    "    train_imbatch, train_labatch = sess.run([images_splits[0], labels_splits[0]])\n",
    "    print(len(train_imbatch))\n",
    "    print(len(train_imbatch[0]))\n",
    "    print(len(train_imbatch[0][0]))\n",
    "    print(len(train_imbatch[0][0][0]))\n",
    "    train_imbatch, train_labatch = sess.run([images_splits[1], labels_splits[1]])\n",
    "    print(len(train_imbatch))\n",
    "    print(len(train_imbatch[0]))\n",
    "    print(len(train_imbatch[0][0]))\n",
    "    print(len(train_imbatch[0][0][0]))\n",
    "    \n"
   ]
  },
  {
   "cell_type": "code",
   "execution_count": null,
   "metadata": {
    "collapsed": true
   },
   "outputs": [],
   "source": []
  }
 ],
 "metadata": {
  "kernelspec": {
   "display_name": "Python 2",
   "language": "python",
   "name": "python2"
  },
  "language_info": {
   "codemirror_mode": {
    "name": "ipython",
    "version": 2
   },
   "file_extension": ".py",
   "mimetype": "text/x-python",
   "name": "python",
   "nbconvert_exporter": "python",
   "pygments_lexer": "ipython2",
   "version": "2.7.12"
  }
 },
 "nbformat": 4,
 "nbformat_minor": 2
}
